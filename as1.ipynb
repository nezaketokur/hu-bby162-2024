{
  "nbformat": 4,
  "nbformat_minor": 0,
  "metadata": {
    "colab": {
      "provenance": [],
      "authorship_tag": "ABX9TyOa48uGEJnlkHlzYAnFZqD2",
      "include_colab_link": true
    },
    "kernelspec": {
      "name": "python3",
      "display_name": "Python 3"
    },
    "language_info": {
      "name": "python"
    }
  },
  "cells": [
    {
      "cell_type": "markdown",
      "metadata": {
        "id": "view-in-github",
        "colab_type": "text"
      },
      "source": [
        "<a href=\"https://colab.research.google.com/github/nezaketokur/hu-bby162-2024/blob/main/as1.ipynb\" target=\"_parent\"><img src=\"https://colab.research.google.com/assets/colab-badge.svg\" alt=\"Open In Colab\"/></a>"
      ]
    },
    {
      "cell_type": "code",
      "execution_count": 7,
      "metadata": {
        "id": "ZwfX4zbVBIdn"
      },
      "outputs": [],
      "source": [
        "import random\n",
        "\n",
        "def oyun_baslat():\n",
        "  \"\"\"\n",
        "  Oyunu başlatır ve seviye seçimi yapar.\n",
        "  \"\"\"\n",
        "  seviye = input(\"\"\"\n",
        "Oyunu hangi seviyede oynamak istersiniz?\n",
        "(1) Kolay (7 can)\n",
        "(2) Orta (5 can)\n",
        "(3) Zor (3 can)\n",
        "Seçiminiz: \"\"\")\n",
        "\n",
        "  if seviye == \"1\":\n",
        "    can = 7\n",
        "  elif seviye == \"2\":\n",
        "    can = 5\n",
        "  elif seviye == \"3\":\n",
        "    can = 3\n",
        "  else:\n",
        "    print(\"Geçersiz seçim.\")\n",
        "    return\n",
        "\n",
        "  print(f\"Oyun {seviye}. seviyede başlıyor.\")\n",
        "  print(f\"Başlangıç canınız: {can}\")\n",
        "  return can, kelime_uret()\n",
        "\n",
        "def kelime_uret():\n",
        "  \"\"\"\n",
        "  Rastgele bir kelime üretir.\n",
        "  \"\"\"\n",
        "  kelimeler = [\"elma\", \"armut\", \"muz\", \"portakal\", \"kiraz\"]\n",
        "  return random.choice(kelimeler)\n",
        "\n",
        "def harf_tahmin_et(can, kelime):\n",
        "  \"\"\"\n",
        "  Kullanıcıdan harf tahmini alır ve canı günceller.\n",
        "  \"\"\"\n",
        "  tahmin = input(\"Bir harf tahmin edin: \").lower()\n",
        "  if tahmin not in kelime:\n",
        "    can -= 1\n",
        "    print(f\"Yanlış tahmin. Kalan canınız: {can}\")\n",
        "  return can\n",
        "\n",
        "def oyun_sonu(can, kelime):\n",
        "  \"\"\"\n",
        "  Oyunun sonucunu belirler ve mesaj yazar.\n",
        "  \"\"\"\n",
        "  if can <= 0:\n",
        "    print(f\"Kaybettiniz! Kelime: {kelime}\")\n",
        "  else:\n",
        "    print(f\"Tebrikler! Kazandınız!\")\n",
        "\n",
        "def tekrar_oyna():\n",
        "  \"\"\"\n",
        "  Kullanıcıya oyunu tekrar oynama seçeneği sunar.\n",
        "  \"\"\"\n",
        "  cevap = input(\"Tekrar oynamak ister misiniz? (e/h): \").lower()\n",
        "  if cevap == \"e\":\n",
        "    main()\n",
        "  else:\n",
        "    print(\"Oyun sona erdi.\")\n",
        "def main():\n",
        "  \"\"\"\n",
        "  Oyunu başlatır\n",
        "  \"\"\"\n",
        "  # Oyun kodları buraya yazılacak.\n",
        ""
      ]
    }
  ]
}