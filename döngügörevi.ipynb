{
  "nbformat": 4,
  "nbformat_minor": 0,
  "metadata": {
    "colab": {
      "provenance": [],
      "authorship_tag": "ABX9TyPHpoViCJUxbP2RBB2xJBRZ",
      "include_colab_link": true
    },
    "kernelspec": {
      "name": "python3",
      "display_name": "Python 3"
    },
    "language_info": {
      "name": "python"
    }
  },
  "cells": [
    {
      "cell_type": "markdown",
      "metadata": {
        "id": "view-in-github",
        "colab_type": "text"
      },
      "source": [
        "<a href=\"https://colab.research.google.com/github/nezaketokur/hu-bby162-2024/blob/main/d%C3%B6ng%C3%BCg%C3%B6revi.ipynb\" target=\"_parent\"><img src=\"https://colab.research.google.com/assets/colab-badge.svg\" alt=\"Open In Colab\"/></a>"
      ]
    },
    {
      "cell_type": "code",
      "execution_count": 2,
      "metadata": {
        "colab": {
          "base_uri": "https://localhost:8080/"
        },
        "id": "eIqR5PLBdpal",
        "outputId": "a962e118-84fc-4af2-a2bc-fd0cebd29bab"
      },
      "outputs": [
        {
          "output_type": "stream",
          "name": "stdout",
          "text": [
            "Kelimeyi tahmin edin: kiraz\n",
            "Yanlış tahmin. Kalan tahmin hakkınız: 2\n",
            "Kelimeyi tahmin edin: masa\n",
            "Bildiniz..!\n"
          ]
        }
      ],
      "source": [
        "# Önceden belirlenmiş kelime\n",
        "kelime = \"masa\"\n",
        "\n",
        "# Tahmin hakkı\n",
        "tahmin_hakki = 3\n",
        "\n",
        "while tahmin_hakki > 0:\n",
        "  # Kullanıcıdan tahminini al\n",
        "  tahmin = input(\"Kelimeyi tahmin edin: \")\n",
        "\n",
        "  # Tahmini kontrol et\n",
        "  if tahmin == kelime:\n",
        "    print(\"Bildiniz..!\")\n",
        "    break\n",
        "  else:\n",
        "    tahmin_hakki -= 1\n",
        "    print(f\"Yanlış tahmin. Kalan tahmin hakkınız: {tahmin_hakki}\")\n",
        "\n",
        "# Tahmin hakkı kalmadıysa\n",
        "if tahmin_hakki == 0:\n",
        "  print(f\"Tahmin hakkınız bitti. Doğru kelime: {kelime}\")"
      ]
    }
  ]
}