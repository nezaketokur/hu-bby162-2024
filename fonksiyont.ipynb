{
  "nbformat": 4,
  "nbformat_minor": 0,
  "metadata": {
    "colab": {
      "provenance": [],
      "authorship_tag": "ABX9TyPF6RjdlCc3aV+AxNLmHoLF",
      "include_colab_link": true
    },
    "kernelspec": {
      "name": "python3",
      "display_name": "Python 3"
    },
    "language_info": {
      "name": "python"
    }
  },
  "cells": [
    {
      "cell_type": "markdown",
      "metadata": {
        "id": "view-in-github",
        "colab_type": "text"
      },
      "source": [
        "<a href=\"https://colab.research.google.com/github/nezaketokur/hu-bby162-2024/blob/main/fonksiyont.ipynb\" target=\"_parent\"><img src=\"https://colab.research.google.com/assets/colab-badge.svg\" alt=\"Open In Colab\"/></a>"
      ]
    },
    {
      "cell_type": "code",
      "execution_count": 5,
      "metadata": {
        "colab": {
          "base_uri": "https://localhost:8080/"
        },
        "id": "Ng8S4OGXFQo2",
        "outputId": "dfbb3d3a-90f7-47fd-a80a-f5f92a2c8c9d"
      },
      "outputs": [
        {
          "output_type": "stream",
          "name": "stdout",
          "text": [
            "Hayat Güzeldir\n",
            "Hayat Güzeldir\n",
            "Hayat Güzeldir\n",
            "Hayat Güzeldir\n",
            "Hayat Güzeldir\n"
          ]
        }
      ],
      "source": [
        "def hayat_guzeldir():\n",
        "    print(\"Hayat Güzeldir!\")\n",
        "for i in range (5) :\n",
        "  print(\"Hayat Güzeldir\")"
      ]
    }
  ]
}