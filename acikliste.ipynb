{
  "nbformat": 4,
  "nbformat_minor": 0,
  "metadata": {
    "colab": {
      "provenance": [],
      "authorship_tag": "ABX9TyPmuulibTtfT6ts07HmJwnA",
      "include_colab_link": true
    },
    "kernelspec": {
      "name": "python3",
      "display_name": "Python 3"
    },
    "language_info": {
      "name": "python"
    }
  },
  "cells": [
    {
      "cell_type": "markdown",
      "metadata": {
        "id": "view-in-github",
        "colab_type": "text"
      },
      "source": [
        "<a href=\"https://colab.research.google.com/github/nezaketokur/hu-bby162-2024/blob/main/acikliste.ipynb\" target=\"_parent\"><img src=\"https://colab.research.google.com/assets/colab-badge.svg\" alt=\"Open In Colab\"/></a>"
      ]
    },
    {
      "cell_type": "code",
      "execution_count": 10,
      "metadata": {
        "colab": {
          "base_uri": "https://localhost:8080/"
        },
        "id": "8mQh_hWFSy2n",
        "outputId": "2f6b1c3e-f3b3-4207-9991-f8faba6f888f"
      },
      "outputs": [
        {
          "output_type": "stream",
          "name": "stdout",
          "text": [
            "['Açık Bilim', 'Açık\\xa0Veri', 'Açık\\xa0Erişim', 'Açık Eğitim', 'Açık\\xa0Kaynak']\n",
            "['Açık Bilim', 'Açık\\xa0Veri', 'Açık\\xa0Erişim', 'Açık Eğitim', 'Açık\\xa0Kaynak', 'AçıkDonanım', 'Açık\\xa0İnovasyon']\n",
            "['Açık Bilim', 'Açık\\xa0Veri', 'Açık\\xa0Erişim', 'Açık Eğitim', 'Açık\\xa0Kaynak', 'AçıkDonanım', 'Açık\\xa0İnovasyon', 'Açık Veri Gazeteciliği']\n",
            "['Açık Bilim', 'Açık\\xa0Veri', 'Açık\\xa0Erişim', 'Açık Eğitim', 'Açık Kaynak Kod', 'AçıkDonanım', 'Açık\\xa0İnovasyon', 'Açık Veri Gazeteciliği']\n"
          ]
        }
      ],
      "source": [
        "acikListe = [\"Açık Bilim\", \"Açık Veri\", \"Açık Erişim\", \"Açık Eğitim\", \"Açık Kaynak\"]\n",
        "print(acikListe)\n",
        "\n",
        "acikListe += [\"AçıkDonanım\", \"Açık İnovasyon\"]\n",
        "print(acikListe)\n",
        "\n",
        "acikListe.append(\"Açık Veri Gazeteciliği\")\n",
        "print(acikListe)\n",
        "\n",
        "acikListe[4] = \"Açık Kaynak Kod\"\n",
        "print(acikListe)\n"
      ]
    }
  ]
}