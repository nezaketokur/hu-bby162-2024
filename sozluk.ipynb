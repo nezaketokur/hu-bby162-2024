{
  "cells": [
    {
      "cell_type": "markdown",
      "metadata": {
        "id": "view-in-github",
        "colab_type": "text"
      },
      "source": [
        "<a href=\"https://colab.research.google.com/github/nezaketokur/hu-bby162-2024/blob/main/sozluk.ipynb\" target=\"_parent\"><img src=\"https://colab.research.google.com/assets/colab-badge.svg\" alt=\"Open In Colab\"/></a>"
      ]
    },
    {
      "cell_type": "code",
      "source": [
        "sozluk = {\"king\" : \"kral\", \"eat\" : \"yemek\", \"run\" : \"koşmak\", \"buy\" : \"satın almak\", \"put\" : \"koymak\", \"bus\" : \"otobüs\", \"computer\" : \"bilgisayar\", \"pencil\" : \"kalem\", \"game\" : \"oyun\", \"good\" : \"iyi\"}\n",
        "#Sözlüğün yazdırılması\n",
        "print(sozluk)"
      ],
      "metadata": {
        "colab": {
          "base_uri": "https://localhost:8080/"
        },
        "id": "oHykff8WHntF",
        "outputId": "55c3db6a-af4d-465f-db84-136228dc64bd"
      },
      "execution_count": 2,
      "outputs": [
        {
          "output_type": "stream",
          "name": "stdout",
          "text": [
            "{'king': 'kral', 'eat': 'yemek', 'run': 'koşmak', 'buy': 'satın almak', 'put': 'koymak', 'bus': 'otobüs', 'computer': 'bilgisayar', 'pencil': 'kalem', 'game': 'oyun', 'good': 'iyi'}\n"
          ]
        }
      ]
    },
    {
      "cell_type": "code",
      "source": [
        "\n",
        "#Sözlükte arama\n",
        "aranan = input(\"Sözlükten açıklamasını istediğiniz kelimeyi yazınız: \")\n",
        "print(sozluk[aranan])"
      ],
      "metadata": {
        "colab": {
          "base_uri": "https://localhost:8080/"
        },
        "id": "j5n8Dl38Hn_L",
        "outputId": "182388dc-b691-43c5-facf-d566011ad1f7"
      },
      "execution_count": 3,
      "outputs": [
        {
          "output_type": "stream",
          "name": "stdout",
          "text": [
            "Sözlükten açıklamasını istediğiniz kelimeyi yazınız: king\n",
            "kral\n"
          ]
        }
      ]
    },
    {
      "cell_type": "code",
      "source": [
        "#Sözlüğe yeni kelime ekleme\n",
        "kelime = input(\"Bir kelime giriniz: \")\n",
        "anlam = input(\"Kelimenin anlamını giriniz: \")\n",
        "sozluk[kelime] = anlam"
      ],
      "metadata": {
        "colab": {
          "base_uri": "https://localhost:8080/"
        },
        "id": "IQcp_AT3HoFK",
        "outputId": "ac470117-8ae6-4ad5-e8d4-313656bc4d3d"
      },
      "execution_count": 4,
      "outputs": [
        {
          "name": "stdout",
          "output_type": "stream",
          "text": [
            "Bir kelime giriniz: retrieval\n",
            "Kelimenin anlamını giriniz: geri alma\n"
          ]
        }
      ]
    },
    {
      "cell_type": "code",
      "source": [
        "#Sözlükten kelime silme\n",
        "print(sozluk)\n",
        "silinecek = input(\"Silmek istediğiniz kelimeyi giriniz: \")\n",
        "print(\"Silinecek kelime\", silinecek)\n",
        "del sozluk[silinecek]\n",
        "print(\"Silme tamamlandı.\")\n",
        "print(sozluk)"
      ],
      "metadata": {
        "colab": {
          "base_uri": "https://localhost:8080/"
        },
        "id": "CgxxdBNbHoHf",
        "outputId": "5a5f1ef2-8e7a-45d7-a894-fdfd80cbae84"
      },
      "execution_count": 5,
      "outputs": [
        {
          "output_type": "stream",
          "name": "stdout",
          "text": [
            "{'king': 'kral', 'eat': 'yemek', 'run': 'koşmak', 'buy': 'satın almak', 'put': 'koymak', 'bus': 'otobüs', 'computer': 'bilgisayar', 'pencil': 'kalem', 'game': 'oyun', 'good': 'iyi', 'retrieval': 'geri alma'}\n",
            "Silmek istediğiniz kelimeyi giriniz: retrieval\n",
            "Silinecek kelime retrieval\n",
            "Silme tamamlandı.\n",
            "{'king': 'kral', 'eat': 'yemek', 'run': 'koşmak', 'buy': 'satın almak', 'put': 'koymak', 'bus': 'otobüs', 'computer': 'bilgisayar', 'pencil': 'kalem', 'game': 'oyun', 'good': 'iyi'}\n"
          ]
        }
      ]
    },
    {
      "cell_type": "code",
      "source": [
        "#Sözlükteki kelimenin anlamını güncelleme\n",
        "print(sozluk)\n",
        "guncel = input(\"Anlamı güncellenecek olan kelimeyi giriniz: \")\n",
        "print(\"Anlamı güncellenecek kelime = \", guncel, \":\", sozluk[guncel])\n",
        "yeni = input(\"Güncel anlamı giriniz: \")\n",
        "sozluk[guncel] = yeni\n",
        "print(\"Güncelleme tamamlandı.\")\n",
        "print(sozluk)"
      ],
      "metadata": {
        "colab": {
          "base_uri": "https://localhost:8080/"
        },
        "id": "4B1W7r7LHoJu",
        "outputId": "2be1d184-9f56-4a70-d7de-2a3f15b36140"
      },
      "execution_count": 6,
      "outputs": [
        {
          "output_type": "stream",
          "name": "stdout",
          "text": [
            "{'king': 'kral', 'eat': 'yemek', 'run': 'koşmak', 'buy': 'satın almak', 'put': 'koymak', 'bus': 'otobüs', 'computer': 'bilgisayar', 'pencil': 'kalem', 'game': 'oyun', 'good': 'iyi'}\n",
            "Anlamı güncellenecek olan kelimeyi giriniz: king\n",
            "Anlamı güncellenecek kelime =  king : kral\n",
            "Güncel anlamı giriniz: Kral\n",
            "Güncelleme tamamlandı.\n",
            "{'king': 'Kral', 'eat': 'yemek', 'run': 'koşmak', 'buy': 'satın almak', 'put': 'koymak', 'bus': 'otobüs', 'computer': 'bilgisayar', 'pencil': 'kalem', 'game': 'oyun', 'good': 'iyi'}\n"
          ]
        }
      ]
    },
    {
      "cell_type": "markdown",
      "metadata": {
        "id": "UeEjKcxje_xb"
      },
      "source": [
        "# Yeni Bölüm"
      ]
    }
  ],
  "metadata": {
    "colab": {
      "provenance": [],
      "authorship_tag": "ABX9TyMgLFwlL6kqk1lWaJ4xY6ki",
      "include_colab_link": true
    },
    "kernelspec": {
      "display_name": "Python 3",
      "name": "python3"
    },
    "language_info": {
      "name": "python"
    }
  },
  "nbformat": 4,
  "nbformat_minor": 0
}