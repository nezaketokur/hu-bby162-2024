{
  "nbformat": 4,
  "nbformat_minor": 0,
  "metadata": {
    "colab": {
      "provenance": []
    },
    "kernelspec": {
      "name": "python3",
      "display_name": "Python 3"
    },
    "language_info": {
      "name": "python"
    }
  },
  "cells": [
    {
      "cell_type": "code",
      "source": [
        "sozluk = {\"king\" : \"kral\", \"eat\" : \"yemek\", \"run\" : \"koşmak\", \"buy\" : \"satın almak\", \"put\" : \"koymak\", \"bus\" : \"otobüs\", \"computer\" : \"bilgisayar\", \"pencil\" : \"kalem\", \"game\" : \"oyun\", \"good\" : \"iyi\"}\n",
        "#Sözlüğün yazdırılması\n",
        "print(sozluk)"
      ],
      "metadata": {
        "colab": {
          "base_uri": "https://localhost:8080/"
        },
        "id": "KxNsePz0loCe",
        "outputId": "703e6329-6866-4d6e-a995-4be32037d1bf"
      },
      "execution_count": 1,
      "outputs": [
        {
          "output_type": "stream",
          "name": "stdout",
          "text": [
            "{'king': 'kral', 'eat': 'yemek', 'run': 'koşmak', 'buy': 'satın almak', 'put': 'koymak', 'bus': 'otobüs', 'computer': 'bilgisayar', 'pencil': 'kalem', 'game': 'oyun', 'good': 'iyi'}\n"
          ]
        }
      ]
    },
    {
      "cell_type": "code",
      "source": [
        "#Sözlükte arama\n",
        "aranan = input(\"Sözlükten açıklamasını istediğiniz kelimeyi yazınız: \")\n",
        "print(sozluk[aranan])"
      ],
      "metadata": {
        "id": "hVQbmtcGlsQv",
        "outputId": "bc346c88-fc5f-4ce8-884d-b17fa049c699",
        "colab": {
          "base_uri": "https://localhost:8080/"
        }
      },
      "execution_count": 2,
      "outputs": [
        {
          "output_type": "stream",
          "name": "stdout",
          "text": [
            "Sözlükten açıklamasını istediğiniz kelimeyi yazınız: king\n",
            "kral\n"
          ]
        }
      ]
    },
    {
      "cell_type": "code",
      "source": [
        "#Sözlüğe yeni kelime ekleme\n",
        "kelime = input(\"Bir kelime giriniz: \")\n",
        "anlam = input(\"Kelimenin anlamını giriniz: \")\n",
        "sozluk[kelime] = anlam"
      ],
      "metadata": {
        "id": "Lyu0GaA1lvMD",
        "outputId": "da08446c-3b84-42b2-cd4f-16fedea62adc",
        "colab": {
          "base_uri": "https://localhost:8080/"
        }
      },
      "execution_count": 3,
      "outputs": [
        {
          "name": "stdout",
          "output_type": "stream",
          "text": [
            "Bir kelime giriniz: repository\n",
            "Kelimenin anlamını giriniz: depo\n"
          ]
        }
      ]
    },
    {
      "cell_type": "code",
      "source": [
        "#Sözlükten kelime silme\n",
        "print(sozluk)\n",
        "silinecek = input(\"Silmek istediğiniz kelimeyi giriniz: \")\n",
        "print(\"Silinecek kelime\", silinecek)\n",
        "del sozluk[silinecek]\n",
        "print(\"Silme tamamlandı.\")\n",
        "print(sozluk)"
      ],
      "metadata": {
        "id": "7vISTyzClvb4",
        "outputId": "643049cd-02c9-4abb-dfac-a39b37b650d1",
        "colab": {
          "base_uri": "https://localhost:8080/"
        }
      },
      "execution_count": 4,
      "outputs": [
        {
          "output_type": "stream",
          "name": "stdout",
          "text": [
            "{'king': 'kral', 'eat': 'yemek', 'run': 'koşmak', 'buy': 'satın almak', 'put': 'koymak', 'bus': 'otobüs', 'computer': 'bilgisayar', 'pencil': 'kalem', 'game': 'oyun', 'good': 'iyi', 'repository': 'depo'}\n",
            "Silmek istediğiniz kelimeyi giriniz: repository\n",
            "Silinecek kelime repository\n",
            "Silme tamamlandı.\n",
            "{'king': 'kral', 'eat': 'yemek', 'run': 'koşmak', 'buy': 'satın almak', 'put': 'koymak', 'bus': 'otobüs', 'computer': 'bilgisayar', 'pencil': 'kalem', 'game': 'oyun', 'good': 'iyi'}\n"
          ]
        }
      ]
    },
    {
      "cell_type": "code",
      "source": [
        "#Sözlükteki kelimenin anlamını güncelleme\n",
        "print(sozluk)\n",
        "guncel = input(\"Anlamı güncellenecek olan kelimeyi giriniz: \")\n",
        "print(\"Anlamı güncellenecek kelime = \", guncel, \":\", sozluk[guncel])\n",
        "yeni = input(\"Güncel anlamı giriniz: \")\n",
        "sozluk[guncel] = yeni\n",
        "print(\"Güncelleme tamamlandı.\")\n",
        "print(sozluk)\n"
      ],
      "metadata": {
        "id": "6PS0ci4VlvqN",
        "outputId": "a12a40c1-b6e1-4164-c599-4026bcb07248",
        "colab": {
          "base_uri": "https://localhost:8080/"
        }
      },
      "execution_count": 5,
      "outputs": [
        {
          "output_type": "stream",
          "name": "stdout",
          "text": [
            "{'king': 'kral', 'eat': 'yemek', 'run': 'koşmak', 'buy': 'satın almak', 'put': 'koymak', 'bus': 'otobüs', 'computer': 'bilgisayar', 'pencil': 'kalem', 'game': 'oyun', 'good': 'iyi'}\n",
            "Anlamı güncellenecek olan kelimeyi giriniz: king\n",
            "Anlamı güncellenecek kelime =  king : kral\n",
            "Güncel anlamı giriniz: Kral\n",
            "Güncelleme tamamlandı.\n",
            "{'king': 'Kral', 'eat': 'yemek', 'run': 'koşmak', 'buy': 'satın almak', 'put': 'koymak', 'bus': 'otobüs', 'computer': 'bilgisayar', 'pencil': 'kalem', 'game': 'oyun', 'good': 'iyi'}\n"
          ]
        }
      ]
    },
    {
      "cell_type": "markdown",
      "source": [
        "# Yeni Bölüm"
      ],
      "metadata": {
        "id": "UeEjKcxje_xb"
      }
    }
  ]
}