{
  "nbformat": 4,
  "nbformat_minor": 0,
  "metadata": {
    "colab": {
      "provenance": [],
      "authorship_tag": "ABX9TyOpiih1TSvkz/HAIiuU30M+",
      "include_colab_link": true
    },
    "kernelspec": {
      "name": "python3",
      "display_name": "Python 3"
    },
    "language_info": {
      "name": "python"
    }
  },
  "cells": [
    {
      "cell_type": "markdown",
      "metadata": {
        "id": "view-in-github",
        "colab_type": "text"
      },
      "source": [
        "<a href=\"https://colab.research.google.com/github/nezaketokur/hu-bby162-2024/blob/main/d%C3%B6ng%C3%BC.ipynb\" target=\"_parent\"><img src=\"https://colab.research.google.com/assets/colab-badge.svg\" alt=\"Open In Colab\"/></a>"
      ]
    },
    {
      "cell_type": "code",
      "execution_count": 3,
      "metadata": {
        "colab": {
          "base_uri": "https://localhost:8080/"
        },
        "id": "mSNNWiC-Ymhb",
        "outputId": "654dc6cb-f73b-4fa1-ff1b-2d83799bcd0c"
      },
      "outputs": [
        {
          "output_type": "stream",
          "name": "stdout",
          "text": [
            "Sayı Sistemleri\n",
            "Trigonometri\n",
            "Fonksiyonlar\n"
          ]
        }
      ],
      "source": [
        "\n",
        "konular = [\"Sayı Sistemleri\", \"Trigonometri\", \"Fonksiyonlar\"]\n",
        "\n",
        "for konu in konular:\n",
        "    print(konu)"
      ]
    }
  ]
}