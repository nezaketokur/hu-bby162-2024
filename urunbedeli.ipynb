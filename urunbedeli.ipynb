{
  "nbformat": 4,
  "nbformat_minor": 0,
  "metadata": {
    "colab": {
      "provenance": [],
      "authorship_tag": "ABX9TyOsw4xAwtPQEdjZ5XCfgxPz",
      "include_colab_link": true
    },
    "kernelspec": {
      "name": "python3",
      "display_name": "Python 3"
    },
    "language_info": {
      "name": "python"
    }
  },
  "cells": [
    {
      "cell_type": "markdown",
      "metadata": {
        "id": "view-in-github",
        "colab_type": "text"
      },
      "source": [
        "<a href=\"https://colab.research.google.com/github/nezaketokur/hu-bby162-2024/blob/main/urunbedeli.ipynb\" target=\"_parent\"><img src=\"https://colab.research.google.com/assets/colab-badge.svg\" alt=\"Open In Colab\"/></a>"
      ]
    },
    {
      "cell_type": "code",
      "source": [],
      "metadata": {
        "id": "JiSo7GUeHIfZ"
      },
      "execution_count": null,
      "outputs": []
    },
    {
      "cell_type": "code",
      "execution_count": 5,
      "metadata": {
        "colab": {
          "base_uri": "https://localhost:8080/"
        },
        "id": "Ay6gOHbgEfEf",
        "outputId": "ca5ce070-4bde-4c0f-d0f8-da4df1a03657"
      },
      "outputs": [
        {
          "output_type": "stream",
          "name": "stdout",
          "text": [
            "Toplam Satın Alma Bedeli: 17350 TL\n",
            "Bütçe: 15000 TL\n",
            "False\n"
          ]
        }
      ],
      "source": [
        "urunBedeliTL = urunBedeliAvro * kurAvro\n",
        "toplamBedelTL = (urunBedeliTL * urunAdet) - pesinAdetIndirimTL\n",
        "\n",
        "# Print(toplam maliyet ve bütceyi yaz)\n",
        "print(\"Toplam Satın Alma Bedeli:\", toplamBedelTL, \"TL\")\n",
        "print(\"Bütçe:\", butce, \"TL\")\n",
        "\n",
        "# toplam maliyet bütceyi asıyor mu kontrol et\n",
        "if toplamBedelTL > butce:\n",
        "    print(\"False\")\n",
        "else:\n",
        "    print(\"True\")"
      ]
    }
  ]
}