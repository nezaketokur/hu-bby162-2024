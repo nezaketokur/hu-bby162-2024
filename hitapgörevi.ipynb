{
  "nbformat": 4,
  "nbformat_minor": 0,
  "metadata": {
    "colab": {
      "provenance": [],
      "authorship_tag": "ABX9TyM4zg2yCcki4Qb/et2tvgij",
      "include_colab_link": true
    },
    "kernelspec": {
      "name": "python3",
      "display_name": "Python 3"
    },
    "language_info": {
      "name": "python"
    }
  },
  "cells": [
    {
      "cell_type": "markdown",
      "metadata": {
        "id": "view-in-github",
        "colab_type": "text"
      },
      "source": [
        "<a href=\"https://colab.research.google.com/github/nezaketokur/hu-bby162-2024/blob/main/hitapg%C3%B6revi.ipynb\" target=\"_parent\"><img src=\"https://colab.research.google.com/assets/colab-badge.svg\" alt=\"Open In Colab\"/></a>"
      ]
    },
    {
      "cell_type": "code",
      "execution_count": 5,
      "metadata": {
        "id": "JwpslcE5W8Qy"
      },
      "outputs": [],
      "source": [
        "hitap = \"Prof. Dr.\"\n",
        "ad = \"Bülent\"\n",
        "soyad = \"Yılmaz\"\n",
        "\n",
        "# Çıktı: Prof. Dr. Bülent Yılmaz"
      ]
    }
  ]
}