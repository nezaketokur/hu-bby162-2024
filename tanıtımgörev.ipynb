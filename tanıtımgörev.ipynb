{
  "nbformat": 4,
  "nbformat_minor": 0,
  "metadata": {
    "colab": {
      "provenance": [],
      "authorship_tag": "ABX9TyNSYDdS4tDWDZoQPJmNXrfy",
      "include_colab_link": true
    },
    "kernelspec": {
      "name": "python3",
      "display_name": "Python 3"
    },
    "language_info": {
      "name": "python"
    }
  },
  "cells": [
    {
      "cell_type": "markdown",
      "metadata": {
        "id": "view-in-github",
        "colab_type": "text"
      },
      "source": [
        "<a href=\"https://colab.research.google.com/github/nezaketokur/hu-bby162-2024/blob/main/tan%C4%B1t%C4%B1mg%C3%B6rev.ipynb\" target=\"_parent\"><img src=\"https://colab.research.google.com/assets/colab-badge.svg\" alt=\"Open In Colab\"/></a>"
      ]
    },
    {
      "cell_type": "code",
      "execution_count": 3,
      "metadata": {
        "colab": {
          "base_uri": "https://localhost:8080/"
        },
        "id": "RN5WPxmqKPTN",
        "outputId": "ed239771-cef4-4ea6-e702-9c16e8b3d614"
      },
      "outputs": [
        {
          "output_type": "stream",
          "name": "stdout",
          "text": [
            "Merhaba dünya! Ben, Nezaket Okur, 21 yaşındayım. Hacettepe Üniversitesi Bilgi Ve Belge Yönetimi 1.sınıf öğrencisiyim.\n",
            "Kitap okumayı çok seviyorum ve piyano çalabiliyorum, Gitar dersleri  verebilir ve  sorularınızı yanıtlayabilirim.\n",
            "Size yardımcı olacağımdan eminim!\n"
          ]
        }
      ],
      "source": [
        "print(\"Merhaba dünya! Ben, Nezaket Okur, 21 yaşındayım. Hacettepe Üniversitesi Bilgi Ve Belge Yönetimi 1.sınıf öğrencisiyim.\")\n",
        "print(\"Kitap okumayı çok seviyorum ve piyano çalabiliyorum, Gitar dersleri  verebilir ve  sorularınızı yanıtlayabilirim.\")\n",
        "print(\"Size yardımcı olacağımdan eminim!\")"
      ]
    }
  ]
}