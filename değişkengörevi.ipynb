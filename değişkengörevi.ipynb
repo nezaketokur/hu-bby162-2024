{
  "nbformat": 4,
  "nbformat_minor": 0,
  "metadata": {
    "colab": {
      "provenance": [],
      "authorship_tag": "ABX9TyMswOJfCOZt341sWhaLogPq",
      "include_colab_link": true
    },
    "kernelspec": {
      "name": "python3",
      "display_name": "Python 3"
    },
    "language_info": {
      "name": "python"
    }
  },
  "cells": [
    {
      "cell_type": "markdown",
      "metadata": {
        "id": "view-in-github",
        "colab_type": "text"
      },
      "source": [
        "<a href=\"https://colab.research.google.com/github/nezaketokur/hu-bby162-2024/blob/main/de%C4%9Fi%C5%9Fkeng%C3%B6revi.ipynb\" target=\"_parent\"><img src=\"https://colab.research.google.com/assets/colab-badge.svg\" alt=\"Open In Colab\"/></a>"
      ]
    },
    {
      "cell_type": "code",
      "execution_count": 1,
      "metadata": {
        "colab": {
          "base_uri": "https://localhost:8080/"
        },
        "id": "-P8pgzPjNEdq",
        "outputId": "d93c2dd0-a0ee-46e1-caba-917e8fff319a"
      },
      "outputs": [
        {
          "output_type": "stream",
          "name": "stdout",
          "text": [
            "Dünya Yuvarlaktır!\n"
          ]
        }
      ],
      "source": [
        "# Define a variable\n",
        "değişken = \"Dünya Yuvarlaktır!\"\n",
        "\n",
        "# Print the variable\n",
        "print(değişken)"
      ]
    }
  ]
}