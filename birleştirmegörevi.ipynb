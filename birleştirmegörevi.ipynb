{
  "nbformat": 4,
  "nbformat_minor": 0,
  "metadata": {
    "colab": {
      "provenance": [],
      "authorship_tag": "ABX9TyP7tP8LK0cw87MnQ1BAIz2K",
      "include_colab_link": true
    },
    "kernelspec": {
      "name": "python3",
      "display_name": "Python 3"
    },
    "language_info": {
      "name": "python"
    }
  },
  "cells": [
    {
      "cell_type": "markdown",
      "metadata": {
        "id": "view-in-github",
        "colab_type": "text"
      },
      "source": [
        "<a href=\"https://colab.research.google.com/github/nezaketokur/hu-bby162-2024/blob/main/birle%C5%9Ftirmeg%C3%B6revi.ipynb\" target=\"_parent\"><img src=\"https://colab.research.google.com/assets/colab-badge.svg\" alt=\"Open In Colab\"/></a>"
      ]
    },
    {
      "cell_type": "code",
      "execution_count": 3,
      "metadata": {
        "colab": {
          "base_uri": "https://localhost:8080/"
        },
        "id": "loQ-lmtdV7PJ",
        "outputId": "08e3bbcb-f075-49d4-cd28-b24329fad3d4"
      },
      "outputs": [
        {
          "output_type": "stream",
          "name": "stdout",
          "text": [
            "Hayat Güzeldir\n"
          ]
        }
      ],
      "source": [
        "deger1 = \"Hayat\"\n",
        "deger2 = \"Güzeldir\"\n",
        "selamlama = deger1 + \" \" + deger2\n",
        "print(selamlama)"
      ]
    }
  ]
}