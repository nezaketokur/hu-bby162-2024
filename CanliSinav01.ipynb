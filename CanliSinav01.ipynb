{
  "nbformat": 4,
  "nbformat_minor": 0,
  "metadata": {
    "colab": {
      "provenance": [],
      "include_colab_link": true
    },
    "kernelspec": {
      "name": "python3",
      "display_name": "Python 3"
    },
    "language_info": {
      "name": "python"
    }
  },
  "cells": [
    {
      "cell_type": "markdown",
      "metadata": {
        "id": "view-in-github",
        "colab_type": "text"
      },
      "source": [
        "<a href=\"https://colab.research.google.com/github/nezaketokur/hu-bby162-2024/blob/main/CanliSinav01.ipynb\" target=\"_parent\"><img src=\"https://colab.research.google.com/assets/colab-badge.svg\" alt=\"Open In Colab\"/></a>"
      ]
    },
    {
      "cell_type": "markdown",
      "source": [
        "**Canlı Sınav 01'e hoşgeldiniz!**"
      ],
      "metadata": {
        "id": "ItmuxWgBbkC1"
      }
    },
    {
      "cell_type": "markdown",
      "source": [
        "Canlı sınav, bilgisayar laboratuvarında bilgisayar başında yapılan ve teslim edilen projeyi ifade etmektedir. Canlı sınavda yazmış olduğunuz kodlar sizin sorumluluğunuzdadır ve gerekirse hangi kodu neden yazdığınızı açık bir şekilde anlatabilmeniz gerekmektedir. Canlı sınav sırasında İnternet üzerindeki kaynaklar kullanılabilir ancak başka bir kişiden destek alınamaz.\n",
        "\n",
        "Canlı sınavın teslim şekli önceki proje çalışmasında olduğu gibidir. \"Canlı Sınav 01\" adlı Colab not defterinin bir kopyasını çıkarmalı, size ait olan bu kopya üzerinde soruları cevaplamalı, GitHub'daki ders deponuza size ait kopyayı yüklemeli ve not defterinin adresini metin alanına yazarak göndermelisiniz.\n",
        "\n",
        "Canlı sınavın doğru şekilde tamamlanması da sınavın önemli bir parçasıdır. Sınav için gönderdiğiniz adresi kontrol ediniz ve doğru dosyayı depoya yerleştirdiği bizden emin olunuz. Teslim sürecinde yapılan hatalar sınavdan 0 puan almanıza yol açabilir!\n",
        "\n",
        "Önemli Not: Soruları cecaplarken sadece şu ana kadar öğrendiğiniz kod yapılarını kullanmanız gerekmektedir!!!"
      ],
      "metadata": {
        "id": "KGjdjR5RbTgH"
      }
    },
    {
      "cell_type": "markdown",
      "source": [
        "**----- Sorular -----**"
      ],
      "metadata": {
        "id": "zBvdh4s8cOqM"
      }
    },
    {
      "cell_type": "markdown",
      "source": [
        "**Soru 1:** Bir giriş sisteminde kullanıcı adı olarak eposta ya da telefon numarası kullanılabilmektedir. Şifre ise tektir. Klavyeden doğru kullanıcı adı ve şifre girildiğinde ekrana \" Sisteme giriş yaptınız\" , yanlış kullanıcı adı girildiğinde \"kullanıcı adı hatalı\" , yanlış şifre girildiğinde \"şifre hatalı\" bilgisi yazdırılmalıdır. Kullanıcı adı hatalı ise şifre sorma adımına geçilmemelidir."
      ],
      "metadata": {
        "id": "ma0FVqgQiLBe"
      }
    },
    {
      "cell_type": "code",
      "source": [
        "#Soru 1 bu bölümde kodlanmalıdır\n",
        "\n",
        "eposta = \"a@a.net\"\n",
        "tel = \"532\"\n",
        "sifre = \"123\"\n",
        "\n",
        "def is_valid_email(email):\n",
        "  \"\"\"\n",
        "  Checks if the given string is a valid email address.\n",
        "  \"\"\"\n",
        "  return \"@\" in email and \".\" in email\n",
        "\n",
        "def is_valid_phone_number(phone_number):\n",
        "  \"\"\"\n",
        "  Checks if the given string is a valid phone number.\n",
        "  \"\"\"\n",
        "  return len(phone_number) == 3\n",
        "\n",
        "def login(username, password):\n",
        "  \"\"\"\n",
        "  Simulates a login system with email/phone number and password.\n",
        "  \"\"\"\n",
        "\n",
        "  if is_valid_email(username) or is_valid_phone_number(username):\n",
        "    if username == eposta and password == sifre:\n",
        "      print(\"Sisteme giriş yaptınız\")\n",
        "    elif username != eposta:\n",
        "      print(\"Kullanıcı adı hatalı\")\n",
        "    else:\n",
        "      print(\"Şifre hatalı\")\n",
        "  else:\n",
        "    print(\"Geçersiz kullanıcı adı\")\n",
        "\n",
        "login(eposta, sifre)\n",
        "login(tel, sifre)\n",
        "\n",
        "\n"
      ],
      "metadata": {
        "id": "Fj7wkLMcjp_7",
        "outputId": "ce87e341-ee07-41c8-fb7c-87cfadc20eb2",
        "colab": {
          "base_uri": "https://localhost:8080/"
        }
      },
      "execution_count": 6,
      "outputs": [
        {
          "output_type": "stream",
          "name": "stdout",
          "text": [
            "Sisteme giriş yaptınız\n",
            "Kullanıcı adı hatalı\n"
          ]
        }
      ]
    },
    {
      "cell_type": "markdown",
      "source": [
        "**Soru 2:** Klavyeden girilen bir insan ismindeki harf sayısına göre ekrana bir cümle yazdırınız. Örneğin 4 harfli bir isim girildiğinde ekrana \"Dört dörtlük bir isim\", 6 harfli bir isim girildiğinde ekrana \"Altıncı hissin kuvvetli\" yazılabilmelidir. Klavyeden üçten az ya da yediden çok harfe sahip bir isim girildiğinde ise ekrana \"isminiz sisteme uygun değildir\" mesajı yazdırılmalıdır."
      ],
      "metadata": {
        "id": "uZDiXJARgK4o"
      }
    },
    {
      "cell_type": "code",
      "source": [
        "#Soru 2 bu bölümde kodlanmalıdır\n",
        "\n",
        "def print_sentence_by_name_length(name):\n",
        "  \"\"\"\n",
        "  Prints a sentence based on the number of characters in the given name.\n",
        "  \"\"\"\n",
        "\n",
        "  name_length = len(name)\n",
        "\n",
        "  if name_length < 3 or name_length > 7:\n",
        "    print(\"İsminiz sisteme uygun değildir\")\n",
        "  elif name_length == 4:\n",
        "    print(\"Dört dörtlük bir isim\")\n",
        "  elif name_length == 6:\n",
        "    print(\"Altıncı hissin kuvvetli\")\n",
        "  else:\n",
        "    # Handle names with 5 or 7 characters\n",
        "    print(\"İsminiz özel bir anlam taşıyor\")\n",
        "\n",
        "# Example usage\n",
        "name = input(\"Enter a name: \")\n",
        "print_sentence_by_name_length(name)\n",
        "\n"
      ],
      "metadata": {
        "id": "no7Zd1ZCh5U3",
        "outputId": "46c2ebd6-5379-4e78-d3a2-1af70bb28a56",
        "colab": {
          "base_uri": "https://localhost:8080/"
        }
      },
      "execution_count": 7,
      "outputs": [
        {
          "output_type": "stream",
          "name": "stdout",
          "text": [
            "Enter a name: sudenaz\n",
            "İsminiz özel bir anlam taşıyor\n"
          ]
        }
      ]
    },
    {
      "cell_type": "markdown",
      "source": [
        "**Soru 3:** 5 öğenin yer aldığı bir kelime tahmin oyunu oluşturun. Kelimeler bir liste içinde yer almalıdır. Klavyeden girilen kelime liste içinde yer alan kelimelerden biri ise ekrana \"bravo oyunu kazandınız\", aksi halde ise ekrana \"üzgünüm oyunu kaybettiniz\" mesajı gelmelidir."
      ],
      "metadata": {
        "id": "HnIqbjcCeNEV"
      }
    },
    {
      "cell_type": "code",
      "source": [
        "#Soru 3 bu bölümde kodlanmalıdır\n",
        "\n",
        "# Kelime listesi\n",
        "kelimeler = [\"top\", \"kalem\", \"kağıt\", \"çanta\", \"valiz\"]\n",
        "\n",
        "# Kullanıcıdan tahminini al\n",
        "tahmin = input(\"Bir kelime girin: \").lower()\n",
        "\n",
        "# Tahmini kontrol et\n",
        "if tahmin in kelimeler:\n",
        "    print(\"Bravo! Oyunu kazandınız.\")\n",
        "else:\n",
        "    print(\"Üzgünüm. Oyunu kaybettiniz.\")\n"
      ],
      "metadata": {
        "id": "SjzG5g3ffTyv",
        "outputId": "0515b766-ab78-4f6f-869d-4169d40cb373",
        "colab": {
          "base_uri": "https://localhost:8080/"
        }
      },
      "execution_count": 8,
      "outputs": [
        {
          "output_type": "stream",
          "name": "stdout",
          "text": [
            "Bir kelime girin: top\n",
            "Bravo! Oyunu kazandınız.\n"
          ]
        }
      ]
    },
    {
      "cell_type": "markdown",
      "source": [
        "**Soru 4:** 5 öğenin yer aldığı bir sözlük oluşturun. Bu sözlükte 5 kelime ve bu 5 kelimenin anlamları yer almalıdır. Klavyeden girilen anahtar (key) eğer sözlükte varsa kelimenin anlamı ekrana yazdırılmalıdır. Eğer anahtar sözlükte yoksa sözlükte aranan kelimenin olmadığı bilgisi ekrana yazdırılmalıdır."
      ],
      "metadata": {
        "id": "p49cZFjJcXoS"
      }
    },
    {
      "cell_type": "code",
      "execution_count": 9,
      "metadata": {
        "id": "3whYCDz3a8QZ",
        "outputId": "91df9508-811c-4137-c9fa-c5bf0b61df41",
        "colab": {
          "base_uri": "https://localhost:8080/"
        }
      },
      "outputs": [
        {
          "output_type": "stream",
          "name": "stdout",
          "text": [
            "Bir kelime girin: su\n",
            "Bir içecek türü\n"
          ]
        }
      ],
      "source": [
        "#Soru 4 bu bölümde kodlanmalıdır\n",
        "\n",
        "# Kelime ve anlamlarının yer aldığı sözlük\n",
        "sozluk = {\n",
        "    \"makarna \": \"Bir yemek türü\",\n",
        "    \"su\": \"Bir içecek türü\",\n",
        "    \"kalem\": \"Bir eşya türü\",\n",
        "    \"çilek\": \"Bir meyve türü\",\n",
        "    \"silgi\": \"Bir eşya türü\"\n",
        "}\n",
        "\n",
        "# Kullanıcıdan anahtar girmesini iste\n",
        "anahtar = input(\"Bir kelime girin: \").lower()\n",
        "\n",
        "# Anahtarı sözlükte ara\n",
        "if anahtar in sozluk:\n",
        "    # Anahtar sözlükte varsa anlamını yazdır\n",
        "    print(sozluk[anahtar])\n",
        "else:\n",
        "    # Anahtar sözlükte yoksa mesaj yazdır\n",
        "    print(\"Sözlükte aranan kelime bulunmamaktadır.\")\n"
      ]
    }
  ]
}