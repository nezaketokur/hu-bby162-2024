{
  "nbformat": 4,
  "nbformat_minor": 0,
  "metadata": {
    "colab": {
      "provenance": [],
      "authorship_tag": "ABX9TyMHuOKWjMSubhzuy6JKi8dE",
      "include_colab_link": true
    },
    "kernelspec": {
      "name": "python3",
      "display_name": "Python 3"
    },
    "language_info": {
      "name": "python"
    }
  },
  "cells": [
    {
      "cell_type": "markdown",
      "metadata": {
        "id": "view-in-github",
        "colab_type": "text"
      },
      "source": [
        "<a href=\"https://colab.research.google.com/github/nezaketokur/hu-bby162-2024/blob/main/forr.ipynb\" target=\"_parent\"><img src=\"https://colab.research.google.com/assets/colab-badge.svg\" alt=\"Open In Colab\"/></a>"
      ]
    },
    {
      "cell_type": "code",
      "execution_count": 1,
      "metadata": {
        "colab": {
          "base_uri": "https://localhost:8080/"
        },
        "id": "K02LBYWvamcL",
        "outputId": "9b20cb0e-63db-4afd-e586-65f24169fab9"
      },
      "outputs": [
        {
          "output_type": "stream",
          "name": "stdout",
          "text": [
            "S\n",
            "p\n",
            "o\n",
            "r\n",
            " \n",
            "y\n",
            "a\n",
            "p\n",
            "m\n",
            "a\n",
            "k\n",
            " \n",
            "b\n",
            "i\n",
            "l\n",
            "i\n",
            "m\n",
            "s\n",
            "e\n",
            "l\n",
            " \n",
            "o\n",
            "l\n",
            "a\n",
            "r\n",
            "a\n",
            "k\n",
            " \n",
            "k\n",
            "a\n",
            "n\n",
            "ı\n",
            "t\n",
            "l\n",
            "a\n",
            "n\n",
            "m\n",
            "ı\n",
            "ş\n",
            " \n",
            "s\n",
            "a\n",
            "ğ\n",
            "l\n",
            "ı\n",
            "k\n",
            "l\n",
            "ı\n",
            " \n",
            "b\n",
            "i\n",
            "r\n",
            " \n",
            "a\n",
            "k\n",
            "i\n",
            "t\n",
            "i\n",
            "v\n",
            "i\n",
            "t\n",
            "e\n",
            "d\n",
            "i\n",
            "r\n",
            ".\n",
            " \n",
            "!\n"
          ]
        }
      ],
      "source": [
        "cumle = \"Spor yapmak bilimsel olarak kanıtlanmış sağlıklı bir akitivitedir. !\"\n",
        "\n",
        "for harf in cumle:\n",
        "    print(harf)"
      ]
    }
  ]
}