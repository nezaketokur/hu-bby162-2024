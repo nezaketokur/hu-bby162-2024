{
  "nbformat": 4,
  "nbformat_minor": 0,
  "metadata": {
    "colab": {
      "provenance": [],
      "authorship_tag": "ABX9TyPgX3hxweOVxnt6+RvV1gnh",
      "include_colab_link": true
    },
    "kernelspec": {
      "name": "python3",
      "display_name": "Python 3"
    },
    "language_info": {
      "name": "python"
    }
  },
  "cells": [
    {
      "cell_type": "markdown",
      "metadata": {
        "id": "view-in-github",
        "colab_type": "text"
      },
      "source": [
        "<a href=\"https://colab.research.google.com/github/nezaketokur/hu-bby162-2024/blob/main/%C3%B6demeg%C3%B6revi.ipynb\" target=\"_parent\"><img src=\"https://colab.research.google.com/assets/colab-badge.svg\" alt=\"Open In Colab\"/></a>"
      ]
    },
    {
      "cell_type": "code",
      "execution_count": 1,
      "metadata": {
        "colab": {
          "base_uri": "https://localhost:8080/"
        },
        "id": "rzdgJhUvQbat",
        "outputId": "2e343925-27a4-4321-d2a0-c34871417828"
      },
      "outputs": [
        {
          "output_type": "stream",
          "name": "stdout",
          "text": [
            "Toplam satın alma bedeli: 32100 TL\n",
            "Bütçe: 30000 TL\n",
            "False\n"
          ]
        }
      ],
      "source": [
        "# Değişkenler\n",
        "birim_fiyat_tv = 11000\n",
        "birim_fiyat_buzdolabi = 7000\n",
        "birim_fiyat_fırın = 4500\n",
        "birim_fiyat_çamaşır_makinesi = 5700\n",
        "birim_fiyat_bulaşık_makinesi = 3900\n",
        "\n",
        "adet_tv = 1\n",
        "adet_buzdolabi = 1\n",
        "adet_fırın = 1\n",
        "adet_çamaşır_makinesi = 1\n",
        "adet_bulaşık_makinesi = 1\n",
        "\n",
        "# Toplam satın alma bedeli\n",
        "toplam_bedel = (birim_fiyat_tv * adet_tv) + (birim_fiyat_buzdolabi * adet_buzdolabi) + (birim_fiyat_fırın * adet_fırın) + (birim_fiyat_çamaşır_makinesi * adet_çamaşır_makinesi) + (birim_fiyat_bulaşık_makinesi * adet_bulaşık_makinesi)\n",
        "\n",
        "# Bütçe\n",
        "butce = 30000\n",
        "\n",
        "# Ekrana yazdırma\n",
        "print(\"Toplam satın alma bedeli:\", toplam_bedel, \"TL\")\n",
        "print(\"Bütçe:\", butce, \"TL\")\n",
        "\n",
        "# Karşılaştırma\n",
        "if toplam_bedel <= butce:\n",
        "    print(\"True\")\n",
        "else:\n",
        "    print(\"False\")"
      ]
    }
  ]
}