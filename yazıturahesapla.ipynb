{
  "nbformat": 4,
  "nbformat_minor": 0,
  "metadata": {
    "colab": {
      "provenance": [],
      "authorship_tag": "ABX9TyOtVs0WLIwe04JHM2t4xWEw",
      "include_colab_link": true
    },
    "kernelspec": {
      "name": "python3",
      "display_name": "Python 3"
    },
    "language_info": {
      "name": "python"
    }
  },
  "cells": [
    {
      "cell_type": "markdown",
      "metadata": {
        "id": "view-in-github",
        "colab_type": "text"
      },
      "source": [
        "<a href=\"https://colab.research.google.com/github/nezaketokur/hu-bby162-2024/blob/main/yaz%C4%B1turahesapla.ipynb\" target=\"_parent\"><img src=\"https://colab.research.google.com/assets/colab-badge.svg\" alt=\"Open In Colab\"/></a>"
      ]
    },
    {
      "cell_type": "code",
      "execution_count": 10,
      "metadata": {
        "colab": {
          "base_uri": "https://localhost:8080/",
          "height": 106
        },
        "id": "1Up2HlcD-VFm",
        "outputId": "8d984e2c-79a8-475b-bbe3-a0ceb7f64842"
      },
      "outputs": [
        {
          "output_type": "error",
          "ename": "IndentationError",
          "evalue": "unexpected indent (<ipython-input-10-61d3c3863323>, line 5)",
          "traceback": [
            "\u001b[0;36m  File \u001b[0;32m\"<ipython-input-10-61d3c3863323>\"\u001b[0;36m, line \u001b[0;32m5\u001b[0m\n\u001b[0;31m    if random_number == 0:\u001b[0m\n\u001b[0m    ^\u001b[0m\n\u001b[0;31mIndentationError\u001b[0m\u001b[0;31m:\u001b[0m unexpected indent\n"
          ]
        }
      ],
      "source": [
        "import random\n",
        "counter = 0\n",
        "for _ in range(5):\n",
        "  random_number = random.randint(0, 1)\n",
        "    if random_number == 0:\n",
        "        print(\"Yazı\")\n",
        "  else:\n",
        "    print(\"Tura\")\n",
        "    counter +=1\n",
        "    print(f\"\\nYazı veya tura {counter} kere yazdırıldı.\")\n",
        "\n"
      ]
    }
  ]
}