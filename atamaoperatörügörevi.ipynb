{
  "nbformat": 4,
  "nbformat_minor": 0,
  "metadata": {
    "colab": {
      "provenance": [],
      "authorship_tag": "ABX9TyMj386rSYwlr/l7nCqwTlGB",
      "include_colab_link": true
    },
    "kernelspec": {
      "name": "python3",
      "display_name": "Python 3"
    },
    "language_info": {
      "name": "python"
    }
  },
  "cells": [
    {
      "cell_type": "markdown",
      "metadata": {
        "id": "view-in-github",
        "colab_type": "text"
      },
      "source": [
        "<a href=\"https://colab.research.google.com/github/nezaketokur/hu-bby162-2024/blob/main/atamaoperat%C3%B6r%C3%BCg%C3%B6revi.ipynb\" target=\"_parent\"><img src=\"https://colab.research.google.com/assets/colab-badge.svg\" alt=\"Open In Colab\"/></a>"
      ]
    },
    {
      "cell_type": "code",
      "execution_count": 1,
      "metadata": {
        "colab": {
          "base_uri": "https://localhost:8080/"
        },
        "id": "0PvfXJJeO-ps",
        "outputId": "c0a0289b-cb8f-4ed0-dd74-16deb177dc08"
      },
      "outputs": [
        {
          "output_type": "stream",
          "name": "stdout",
          "text": [
            "35\n",
            "Sayı = 25\n"
          ]
        }
      ],
      "source": [
        "sayi = 15\n",
        "sayi += 20\n",
        "print(sayi)\n",
        "sayi -= 10\n",
        "print(\"Sayı = \" + str(sayi))"
      ]
    }
  ]
}