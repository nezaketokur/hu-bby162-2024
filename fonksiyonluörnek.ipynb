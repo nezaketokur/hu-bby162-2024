{
  "nbformat": 4,
  "nbformat_minor": 0,
  "metadata": {
    "colab": {
      "provenance": [],
      "authorship_tag": "ABX9TyNd9kqaTnXqUsb2DDTeHR7F",
      "include_colab_link": true
    },
    "kernelspec": {
      "name": "python3",
      "display_name": "Python 3"
    },
    "language_info": {
      "name": "python"
    }
  },
  "cells": [
    {
      "cell_type": "markdown",
      "metadata": {
        "id": "view-in-github",
        "colab_type": "text"
      },
      "source": [
        "<a href=\"https://colab.research.google.com/github/nezaketokur/hu-bby162-2024/blob/main/fonksiyonlu%C3%B6rnek.ipynb\" target=\"_parent\"><img src=\"https://colab.research.google.com/assets/colab-badge.svg\" alt=\"Open In Colab\"/></a>"
      ]
    },
    {
      "cell_type": "code",
      "execution_count": 2,
      "metadata": {
        "colab": {
          "base_uri": "https://localhost:8080/"
        },
        "id": "xSwAJVrpJ1-D",
        "outputId": "262ce043-f065-4450-9625-c5d009cb1b24"
      },
      "outputs": [
        {
          "output_type": "stream",
          "name": "stdout",
          "text": [
            "[1, 17, 21, 28, 45]\n",
            "[6, 10, 19, 41, 44]\n",
            "[2, 13, 16, 22, 39]\n",
            "[21, 30, 38, 41, 43]\n",
            "[13, 30, 39, 41, 45]\n",
            "[9, 17, 19, 35, 44]\n",
            "[4, 8, 20, 22, 33]\n"
          ]
        }
      ],
      "source": [
        "from random import randint\n",
        "def tahminEt(rakam=5, satir=7, baslangic=1, bitis=75):\n",
        "  i = 0\n",
        "  secilenler = []\n",
        "  for liste in range(rakam):\n",
        "    secilenler.append(0)\n",
        "  for olustur in range(satir):\n",
        "      while i < len(secilenler):\n",
        "          secilen = randint(baslangic, bitis)\n",
        "          if secilen not in secilenler:\n",
        "              secilenler[i] = secilen\n",
        "              i+=1\n",
        "      print(sorted(secilenler))\n",
        "      i=0\n",
        "tahminEt(5,7,1,45)"
      ]
    }
  ]
}